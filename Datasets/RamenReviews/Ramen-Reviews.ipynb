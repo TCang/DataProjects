{
 "cells": [
  {
   "cell_type": "markdown",
   "metadata": {},
   "source": [
    "# Ramen Ratings"
   ]
  },
  {
   "cell_type": "markdown",
   "metadata": {},
   "source": [
    "I saw this interesting dataset on Kaggle and wanted to explore it a bit. \n",
    "\n",
    "This data was extracted from [The Big List](https://www.theramenrater.com/resources-2/the-list/) at The Ramen Rater website\n",
    "\n",
    "Before starting, the xlrd package needs to be installed prior to being able to read in the excel file from the url.\n",
    "\n",
    "This notebook uses the following packages:\n",
    "- pandas\n",
    "- seaborn\n",
    "- matplotlib\n"
   ]
  },
  {
   "cell_type": "code",
   "execution_count": 5,
   "metadata": {},
   "outputs": [
    {
     "name": "stdout",
     "output_type": "stream",
     "text": [
      "Collecting xlrd\n",
      "  Downloading xlrd-1.2.0-py2.py3-none-any.whl (103 kB)\n",
      "Installing collected packages: xlrd\n",
      "Successfully installed xlrd-1.2.0\n",
      "Note: you may need to restart the kernel to use updated packages.\n"
     ]
    }
   ],
   "source": [
    "pip install xlrd"
   ]
  },
  {
   "cell_type": "code",
   "execution_count": 80,
   "metadata": {},
   "outputs": [],
   "source": [
    "import pandas as pd\n",
    "\n",
    "df = pd.read_excel('https://www.theramenrater.com/wp-content/uploads/2020/01/The-Ramen-Rater-The-Big-List-1-3400-Current-As-Of-Jan-25-2020.xlsx',\n",
    "                  converters = {'Review #': str, 'Stars': str})"
   ]
  },
  {
   "cell_type": "code",
   "execution_count": 81,
   "metadata": {},
   "outputs": [
    {
     "name": "stdout",
     "output_type": "stream",
     "text": [
      "(3400, 6)\n"
     ]
    },
    {
     "data": {
      "text/html": [
       "<div>\n",
       "<style scoped>\n",
       "    .dataframe tbody tr th:only-of-type {\n",
       "        vertical-align: middle;\n",
       "    }\n",
       "\n",
       "    .dataframe tbody tr th {\n",
       "        vertical-align: top;\n",
       "    }\n",
       "\n",
       "    .dataframe thead th {\n",
       "        text-align: right;\n",
       "    }\n",
       "</style>\n",
       "<table border=\"1\" class=\"dataframe\">\n",
       "  <thead>\n",
       "    <tr style=\"text-align: right;\">\n",
       "      <th></th>\n",
       "      <th>Review #</th>\n",
       "      <th>Brand</th>\n",
       "      <th>Variety</th>\n",
       "      <th>Style</th>\n",
       "      <th>Country</th>\n",
       "      <th>Stars</th>\n",
       "    </tr>\n",
       "  </thead>\n",
       "  <tbody>\n",
       "    <tr>\n",
       "      <th>0</th>\n",
       "      <td>3400</td>\n",
       "      <td>EDO Pack</td>\n",
       "      <td>Kumamoto Flavour Noodles</td>\n",
       "      <td>Cup</td>\n",
       "      <td>Hong Kong</td>\n",
       "      <td>1</td>\n",
       "    </tr>\n",
       "    <tr>\n",
       "      <th>1</th>\n",
       "      <td>3399</td>\n",
       "      <td>Pan Mee</td>\n",
       "      <td>Goreng Dried Chili Shrimp Flavour</td>\n",
       "      <td>Pack</td>\n",
       "      <td>Malaysia</td>\n",
       "      <td>5</td>\n",
       "    </tr>\n",
       "    <tr>\n",
       "      <th>2</th>\n",
       "      <td>3398</td>\n",
       "      <td>Paldo</td>\n",
       "      <td>King Lid Ramen Noodle Soup</td>\n",
       "      <td>Pack</td>\n",
       "      <td>South Korea</td>\n",
       "      <td>5</td>\n",
       "    </tr>\n",
       "    <tr>\n",
       "      <th>3</th>\n",
       "      <td>3397</td>\n",
       "      <td>Nissin Miojo</td>\n",
       "      <td>Cremoso Carno Com Chili</td>\n",
       "      <td>Pack</td>\n",
       "      <td>Brazil</td>\n",
       "      <td>2</td>\n",
       "    </tr>\n",
       "    <tr>\n",
       "      <th>4</th>\n",
       "      <td>3396</td>\n",
       "      <td>Samyang Foods</td>\n",
       "      <td>Cham Ramen Big Bowl</td>\n",
       "      <td>Bowl</td>\n",
       "      <td>South Korea</td>\n",
       "      <td>2.25</td>\n",
       "    </tr>\n",
       "  </tbody>\n",
       "</table>\n",
       "</div>"
      ],
      "text/plain": [
       "  Review #          Brand                            Variety Style  \\\n",
       "0     3400       EDO Pack           Kumamoto Flavour Noodles   Cup   \n",
       "1     3399        Pan Mee  Goreng Dried Chili Shrimp Flavour  Pack   \n",
       "2     3398          Paldo         King Lid Ramen Noodle Soup  Pack   \n",
       "3     3397   Nissin Miojo            Cremoso Carno Com Chili  Pack   \n",
       "4     3396  Samyang Foods                Cham Ramen Big Bowl  Bowl   \n",
       "\n",
       "       Country Stars  \n",
       "0    Hong Kong     1  \n",
       "1     Malaysia     5  \n",
       "2  South Korea     5  \n",
       "3       Brazil     2  \n",
       "4  South Korea  2.25  "
      ]
     },
     "execution_count": 81,
     "metadata": {},
     "output_type": "execute_result"
    }
   ],
   "source": [
    "print(df.shape)\n",
    "df.head()"
   ]
  },
  {
   "cell_type": "markdown",
   "metadata": {},
   "source": [
    "Checking for any missing values"
   ]
  },
  {
   "cell_type": "code",
   "execution_count": 82,
   "metadata": {},
   "outputs": [
    {
     "data": {
      "text/plain": [
       "Review #    0\n",
       "Brand       0\n",
       "Variety     0\n",
       "Style       0\n",
       "Country     0\n",
       "Stars       0\n",
       "dtype: int64"
      ]
     },
     "execution_count": 82,
     "metadata": {},
     "output_type": "execute_result"
    }
   ],
   "source": [
    "df.isnull().sum()"
   ]
  },
  {
   "cell_type": "markdown",
   "metadata": {},
   "source": [
    "Looking at the datatype for each column shows that the 'Stars' column is not all numerical data"
   ]
  },
  {
   "cell_type": "code",
   "execution_count": 83,
   "metadata": {},
   "outputs": [
    {
     "data": {
      "text/plain": [
       "Review #    object\n",
       "Brand       object\n",
       "Variety     object\n",
       "Style       object\n",
       "Country     object\n",
       "Stars       object\n",
       "dtype: object"
      ]
     },
     "execution_count": 83,
     "metadata": {},
     "output_type": "execute_result"
    }
   ],
   "source": [
    "df.dtypes"
   ]
  },
  {
   "cell_type": "markdown",
   "metadata": {},
   "source": [
    "Looking at the unique values in the 'Stars' column, we see that there are a few values which will cause issues when we try and convert to a float. We will go ahead and filter out all non-numerical values:\n",
    "- 'NR'\n",
    "- 'Unrated'\n",
    "- Any values with a hyphen or backslash "
   ]
  },
  {
   "cell_type": "code",
   "execution_count": 84,
   "metadata": {},
   "outputs": [
    {
     "data": {
      "text/plain": [
       "array(['1', '5', '2', '2.25', '3', '3.5', '4.5', '2.75', '3.75', '0',\n",
       "       '3.25', '4.25', '2.5', '4', '0.5', '4.75', '1.5', '1.25', 'NR',\n",
       "       '1.75', '0.25', '3.5/2.5', '2017-04-04 00:00:00',\n",
       "       '2017-05-05 00:00:00', '4.5/5', '5/2.5', '2017-05-04 00:00:00',\n",
       "       '4.25/5', 'Unrated', '0.75', '1.1', '2.1', '0.9', '3.1', '4.125',\n",
       "       '3.125', '2.125', '2.9', '0.1', '2.8', '3.7', '3.4', '3.6', '2.85',\n",
       "       '2.3', '3.2', '3.65', '1.8'], dtype=object)"
      ]
     },
     "execution_count": 84,
     "metadata": {},
     "output_type": "execute_result"
    }
   ],
   "source": [
    "df['Stars'].unique()"
   ]
  },
  {
   "cell_type": "code",
   "execution_count": 90,
   "metadata": {},
   "outputs": [],
   "source": [
    "df_filtered = df[~df['Stars'].str.contains('-|/|NR|Unrated')]"
   ]
  },
  {
   "cell_type": "code",
   "execution_count": 109,
   "metadata": {},
   "outputs": [
    {
     "data": {
      "text/html": [
       "<div>\n",
       "<style scoped>\n",
       "    .dataframe tbody tr th:only-of-type {\n",
       "        vertical-align: middle;\n",
       "    }\n",
       "\n",
       "    .dataframe tbody tr th {\n",
       "        vertical-align: top;\n",
       "    }\n",
       "\n",
       "    .dataframe thead th {\n",
       "        text-align: right;\n",
       "    }\n",
       "</style>\n",
       "<table border=\"1\" class=\"dataframe\">\n",
       "  <thead>\n",
       "    <tr style=\"text-align: right;\">\n",
       "      <th></th>\n",
       "      <th>Review #</th>\n",
       "      <th>Brand</th>\n",
       "      <th>Variety</th>\n",
       "      <th>Style</th>\n",
       "      <th>Country</th>\n",
       "      <th>Stars</th>\n",
       "    </tr>\n",
       "  </thead>\n",
       "  <tbody>\n",
       "    <tr>\n",
       "      <th>0</th>\n",
       "      <td>3400</td>\n",
       "      <td>EDO Pack</td>\n",
       "      <td>Kumamoto Flavour Noodles</td>\n",
       "      <td>Cup</td>\n",
       "      <td>Hong Kong</td>\n",
       "      <td>1.00</td>\n",
       "    </tr>\n",
       "    <tr>\n",
       "      <th>1</th>\n",
       "      <td>3399</td>\n",
       "      <td>Pan Mee</td>\n",
       "      <td>Goreng Dried Chili Shrimp Flavour</td>\n",
       "      <td>Pack</td>\n",
       "      <td>Malaysia</td>\n",
       "      <td>5.00</td>\n",
       "    </tr>\n",
       "    <tr>\n",
       "      <th>2</th>\n",
       "      <td>3398</td>\n",
       "      <td>Paldo</td>\n",
       "      <td>King Lid Ramen Noodle Soup</td>\n",
       "      <td>Pack</td>\n",
       "      <td>South Korea</td>\n",
       "      <td>5.00</td>\n",
       "    </tr>\n",
       "    <tr>\n",
       "      <th>3</th>\n",
       "      <td>3397</td>\n",
       "      <td>Nissin Miojo</td>\n",
       "      <td>Cremoso Carno Com Chili</td>\n",
       "      <td>Pack</td>\n",
       "      <td>Brazil</td>\n",
       "      <td>2.00</td>\n",
       "    </tr>\n",
       "    <tr>\n",
       "      <th>4</th>\n",
       "      <td>3396</td>\n",
       "      <td>Samyang Foods</td>\n",
       "      <td>Cham Ramen Big Bowl</td>\n",
       "      <td>Bowl</td>\n",
       "      <td>South Korea</td>\n",
       "      <td>2.25</td>\n",
       "    </tr>\n",
       "  </tbody>\n",
       "</table>\n",
       "</div>"
      ],
      "text/plain": [
       "  Review #          Brand                            Variety Style  \\\n",
       "0     3400       EDO Pack           Kumamoto Flavour Noodles   Cup   \n",
       "1     3399        Pan Mee  Goreng Dried Chili Shrimp Flavour  Pack   \n",
       "2     3398          Paldo         King Lid Ramen Noodle Soup  Pack   \n",
       "3     3397   Nissin Miojo            Cremoso Carno Com Chili  Pack   \n",
       "4     3396  Samyang Foods                Cham Ramen Big Bowl  Bowl   \n",
       "\n",
       "       Country  Stars  \n",
       "0    Hong Kong   1.00  \n",
       "1     Malaysia   5.00  \n",
       "2  South Korea   5.00  \n",
       "3       Brazil   2.00  \n",
       "4  South Korea   2.25  "
      ]
     },
     "execution_count": 109,
     "metadata": {},
     "output_type": "execute_result"
    }
   ],
   "source": [
    "df_filtered.head()"
   ]
  },
  {
   "cell_type": "code",
   "execution_count": 107,
   "metadata": {},
   "outputs": [],
   "source": [
    "df_filtered.loc[:,'Stars'] = pd.to_numeric(df_filtered['Stars'],errors='coerce', downcast = 'float')"
   ]
  },
  {
   "cell_type": "code",
   "execution_count": 108,
   "metadata": {},
   "outputs": [
    {
     "data": {
      "text/plain": [
       "Review #     object\n",
       "Brand        object\n",
       "Variety      object\n",
       "Style        object\n",
       "Country      object\n",
       "Stars       float32\n",
       "dtype: object"
      ]
     },
     "execution_count": 108,
     "metadata": {},
     "output_type": "execute_result"
    }
   ],
   "source": [
    "df_filtered.dtypes"
   ]
  },
  {
   "cell_type": "markdown",
   "metadata": {},
   "source": [
    "Now we see that all values in the 'Stars' column have been converted to float and we can start analyzing and making some visualizations"
   ]
  },
  {
   "cell_type": "code",
   "execution_count": 117,
   "metadata": {},
   "outputs": [
    {
     "data": {
      "text/html": [
       "<div>\n",
       "<style scoped>\n",
       "    .dataframe tbody tr th:only-of-type {\n",
       "        vertical-align: middle;\n",
       "    }\n",
       "\n",
       "    .dataframe tbody tr th {\n",
       "        vertical-align: top;\n",
       "    }\n",
       "\n",
       "    .dataframe thead th {\n",
       "        text-align: right;\n",
       "    }\n",
       "</style>\n",
       "<table border=\"1\" class=\"dataframe\">\n",
       "  <thead>\n",
       "    <tr style=\"text-align: right;\">\n",
       "      <th></th>\n",
       "      <th>Stars</th>\n",
       "    </tr>\n",
       "  </thead>\n",
       "  <tbody>\n",
       "    <tr>\n",
       "      <th>count</th>\n",
       "      <td>3386.000000</td>\n",
       "    </tr>\n",
       "    <tr>\n",
       "      <th>mean</th>\n",
       "      <td>3.699321</td>\n",
       "    </tr>\n",
       "    <tr>\n",
       "      <th>std</th>\n",
       "      <td>1.038873</td>\n",
       "    </tr>\n",
       "    <tr>\n",
       "      <th>min</th>\n",
       "      <td>0.000000</td>\n",
       "    </tr>\n",
       "    <tr>\n",
       "      <th>25%</th>\n",
       "      <td>3.250000</td>\n",
       "    </tr>\n",
       "    <tr>\n",
       "      <th>50%</th>\n",
       "      <td>3.750000</td>\n",
       "    </tr>\n",
       "    <tr>\n",
       "      <th>75%</th>\n",
       "      <td>4.500000</td>\n",
       "    </tr>\n",
       "    <tr>\n",
       "      <th>max</th>\n",
       "      <td>5.000000</td>\n",
       "    </tr>\n",
       "  </tbody>\n",
       "</table>\n",
       "</div>"
      ],
      "text/plain": [
       "             Stars\n",
       "count  3386.000000\n",
       "mean      3.699321\n",
       "std       1.038873\n",
       "min       0.000000\n",
       "25%       3.250000\n",
       "50%       3.750000\n",
       "75%       4.500000\n",
       "max       5.000000"
      ]
     },
     "execution_count": 117,
     "metadata": {},
     "output_type": "execute_result"
    }
   ],
   "source": [
    "df_filtered.describe()"
   ]
  },
  {
   "cell_type": "markdown",
   "metadata": {},
   "source": [
    "Looking at the top 10 count by Country, we observe that a majority of the ramen reviews are for Japan and US"
   ]
  },
  {
   "cell_type": "code",
   "execution_count": 130,
   "metadata": {},
   "outputs": [
    {
     "data": {
      "text/plain": [
       "Japan            606\n",
       "United States    419\n",
       "South Korea      383\n",
       "Taiwan           351\n",
       "China            217\n",
       "Thailand         208\n",
       "Malaysia         190\n",
       "Hong Kong        159\n",
       "Indonesia        152\n",
       "Singapore        136\n",
       "Name: Country, dtype: int64"
      ]
     },
     "execution_count": 130,
     "metadata": {},
     "output_type": "execute_result"
    }
   ],
   "source": [
    "df['Country'].value_counts()[:10]"
   ]
  },
  {
   "cell_type": "markdown",
   "metadata": {},
   "source": [
    "The most popular brands are Nissin (Japan), Maruchan (USA), and Nongshim (South Korea)"
   ]
  },
  {
   "cell_type": "code",
   "execution_count": 133,
   "metadata": {},
   "outputs": [
    {
     "data": {
      "text/plain": [
       "Nissin             460\n",
       "Maruchan           120\n",
       "Nongshim           113\n",
       "Myojo               96\n",
       "Samyang Foods       93\n",
       "Paldo               76\n",
       "Mama                71\n",
       "Indomie             56\n",
       "Sapporo Ichiban     54\n",
       "Ottogi              48\n",
       "Name: Brand, dtype: int64"
      ]
     },
     "execution_count": 133,
     "metadata": {},
     "output_type": "execute_result"
    }
   ],
   "source": [
    "df['Brand'].value_counts()[:10]"
   ]
  },
  {
   "cell_type": "markdown",
   "metadata": {},
   "source": [
    "Saving the top 10 values for both Country and Brand for later use"
   ]
  },
  {
   "cell_type": "code",
   "execution_count": 188,
   "metadata": {},
   "outputs": [],
   "source": [
    "Country_Top10 = df['Country'].value_counts()[:10].index.values.tolist()\n",
    "Brand_Top10 = df['Brand'].value_counts()[:10].index.values.tolist()"
   ]
  },
  {
   "cell_type": "code",
   "execution_count": 190,
   "metadata": {},
   "outputs": [],
   "source": [
    "grouped_country = df_filtered.groupby(['Country']).mean()"
   ]
  },
  {
   "cell_type": "code",
   "execution_count": 192,
   "metadata": {},
   "outputs": [
    {
     "data": {
      "text/html": [
       "<div>\n",
       "<style scoped>\n",
       "    .dataframe tbody tr th:only-of-type {\n",
       "        vertical-align: middle;\n",
       "    }\n",
       "\n",
       "    .dataframe tbody tr th {\n",
       "        vertical-align: top;\n",
       "    }\n",
       "\n",
       "    .dataframe thead th {\n",
       "        text-align: right;\n",
       "    }\n",
       "</style>\n",
       "<table border=\"1\" class=\"dataframe\">\n",
       "  <thead>\n",
       "    <tr style=\"text-align: right;\">\n",
       "      <th></th>\n",
       "      <th>Stars</th>\n",
       "    </tr>\n",
       "    <tr>\n",
       "      <th>Country</th>\n",
       "      <th></th>\n",
       "    </tr>\n",
       "  </thead>\n",
       "  <tbody>\n",
       "    <tr>\n",
       "      <th>Malaysia</th>\n",
       "      <td>4.166138</td>\n",
       "    </tr>\n",
       "    <tr>\n",
       "      <th>Indonesia</th>\n",
       "      <td>4.111842</td>\n",
       "    </tr>\n",
       "    <tr>\n",
       "      <th>Singapore</th>\n",
       "      <td>4.108456</td>\n",
       "    </tr>\n",
       "    <tr>\n",
       "      <th>Japan</th>\n",
       "      <td>3.916045</td>\n",
       "    </tr>\n",
       "    <tr>\n",
       "      <th>South Korea</th>\n",
       "      <td>3.859449</td>\n",
       "    </tr>\n",
       "    <tr>\n",
       "      <th>Taiwan</th>\n",
       "      <td>3.844587</td>\n",
       "    </tr>\n",
       "    <tr>\n",
       "      <th>Hong Kong</th>\n",
       "      <td>3.794025</td>\n",
       "    </tr>\n",
       "    <tr>\n",
       "      <th>United States</th>\n",
       "      <td>3.507603</td>\n",
       "    </tr>\n",
       "    <tr>\n",
       "      <th>China</th>\n",
       "      <td>3.463364</td>\n",
       "    </tr>\n",
       "    <tr>\n",
       "      <th>Thailand</th>\n",
       "      <td>3.414664</td>\n",
       "    </tr>\n",
       "  </tbody>\n",
       "</table>\n",
       "</div>"
      ],
      "text/plain": [
       "                  Stars\n",
       "Country                \n",
       "Malaysia       4.166138\n",
       "Indonesia      4.111842\n",
       "Singapore      4.108456\n",
       "Japan          3.916045\n",
       "South Korea    3.859449\n",
       "Taiwan         3.844587\n",
       "Hong Kong      3.794025\n",
       "United States  3.507603\n",
       "China          3.463364\n",
       "Thailand       3.414664"
      ]
     },
     "execution_count": 192,
     "metadata": {},
     "output_type": "execute_result"
    }
   ],
   "source": [
    "grouped_country.loc[grouped_country.index.isin(Country_Top10)].sort_values('Stars',ascending = False)"
   ]
  },
  {
   "cell_type": "code",
   "execution_count": 193,
   "metadata": {},
   "outputs": [],
   "source": [
    "grouped_brand = df_filtered.groupby(['Brand']).mean()"
   ]
  },
  {
   "cell_type": "code",
   "execution_count": 194,
   "metadata": {},
   "outputs": [
    {
     "data": {
      "text/html": [
       "<div>\n",
       "<style scoped>\n",
       "    .dataframe tbody tr th:only-of-type {\n",
       "        vertical-align: middle;\n",
       "    }\n",
       "\n",
       "    .dataframe tbody tr th {\n",
       "        vertical-align: top;\n",
       "    }\n",
       "\n",
       "    .dataframe thead th {\n",
       "        text-align: right;\n",
       "    }\n",
       "</style>\n",
       "<table border=\"1\" class=\"dataframe\">\n",
       "  <thead>\n",
       "    <tr style=\"text-align: right;\">\n",
       "      <th></th>\n",
       "      <th>Stars</th>\n",
       "    </tr>\n",
       "    <tr>\n",
       "      <th>Brand</th>\n",
       "      <th></th>\n",
       "    </tr>\n",
       "  </thead>\n",
       "  <tbody>\n",
       "    <tr>\n",
       "      <th>Samyang Foods</th>\n",
       "      <td>4.095109</td>\n",
       "    </tr>\n",
       "    <tr>\n",
       "      <th>Indomie</th>\n",
       "      <td>4.089286</td>\n",
       "    </tr>\n",
       "    <tr>\n",
       "      <th>Paldo</th>\n",
       "      <td>4.016448</td>\n",
       "    </tr>\n",
       "    <tr>\n",
       "      <th>Nongshim</th>\n",
       "      <td>4.006637</td>\n",
       "    </tr>\n",
       "    <tr>\n",
       "      <th>Nissin</th>\n",
       "      <td>3.904076</td>\n",
       "    </tr>\n",
       "    <tr>\n",
       "      <th>Myojo</th>\n",
       "      <td>3.846354</td>\n",
       "    </tr>\n",
       "    <tr>\n",
       "      <th>Sapporo Ichiban</th>\n",
       "      <td>3.782408</td>\n",
       "    </tr>\n",
       "    <tr>\n",
       "      <th>Mama</th>\n",
       "      <td>3.628873</td>\n",
       "    </tr>\n",
       "    <tr>\n",
       "      <th>Maruchan</th>\n",
       "      <td>3.603125</td>\n",
       "    </tr>\n",
       "    <tr>\n",
       "      <th>Ottogi</th>\n",
       "      <td>3.414894</td>\n",
       "    </tr>\n",
       "  </tbody>\n",
       "</table>\n",
       "</div>"
      ],
      "text/plain": [
       "                    Stars\n",
       "Brand                    \n",
       "Samyang Foods    4.095109\n",
       "Indomie          4.089286\n",
       "Paldo            4.016448\n",
       "Nongshim         4.006637\n",
       "Nissin           3.904076\n",
       "Myojo            3.846354\n",
       "Sapporo Ichiban  3.782408\n",
       "Mama             3.628873\n",
       "Maruchan         3.603125\n",
       "Ottogi           3.414894"
      ]
     },
     "execution_count": 194,
     "metadata": {},
     "output_type": "execute_result"
    }
   ],
   "source": [
    "grouped_brand.loc[grouped_brand.index.isin(Brand_Top10)].sort_values('Stars',ascending = False)"
   ]
  },
  {
   "cell_type": "code",
   "execution_count": 134,
   "metadata": {},
   "outputs": [],
   "source": [
    "from matplotlib import pyplot as plt\n",
    "import seaborn as sns"
   ]
  },
  {
   "cell_type": "markdown",
   "metadata": {},
   "source": [
    "From the graph, the Box ramen has much higher reviews than all other forms"
   ]
  },
  {
   "cell_type": "code",
   "execution_count": 144,
   "metadata": {},
   "outputs": [
    {
     "data": {
      "image/png": "[encoded data removed]",
      "text/plain": [
       "<Figure size 720x360 with 1 Axes>"
      ]
     },
     "metadata": {
      "needs_background": "light"
     },
     "output_type": "display_data"
    }
   ],
   "source": [
    "sns.catplot(data=df_filtered, x='Style', y='Stars', kind='box', height=5, aspect = 2);"
   ]
  },
  {
   "cell_type": "code",
   "execution_count": 198,
   "metadata": {},
   "outputs": [
    {
     "data": {
      "image/png": "[encoded data removed]",
      "text/plain": [
       "<Figure size 720x360 with 1 Axes>"
      ]
     },
     "metadata": {
      "needs_background": "light"
     },
     "output_type": "display_data"
    }
   ],
   "source": [
    "sns.catplot(data=df_filtered, x='Style', y='Stars', kind='boxen', height=5, aspect = 2);"
   ]
  },
  {
   "cell_type": "code",
   "execution_count": null,
   "metadata": {},
   "outputs": [],
   "source": [
    "sns.catplot(x=\"day\", y=\"total_bill\", hue=\"smoker\",\n",
    "            col=\"time\", aspect=.6,\n",
    "            kind=\"swarm\", data=tips);"
   ]
  },
  {
   "cell_type": "code",
   "execution_count": null,
   "metadata": {},
   "outputs": [],
   "source": [
    "#Bubble plot with size equivalent to number of ramen reviews\n",
    "#Country on x axis (Top 10)\n",
    "#Review on Y axis"
   ]
  },
  {
   "cell_type": "code",
   "execution_count": null,
   "metadata": {},
   "outputs": [],
   "source": [
    "#Bubble plot with size equivalent to number of ramen reviews\n",
    "#Brand on x axis (Top 10)\n",
    "#Review on Y axis"
   ]
  }
 ],
 "metadata": {
  "kernelspec": {
   "display_name": "Python 3.6.10 64-bit ('py36': conda)",
   "language": "python",
   "name": "python361064bitpy36conda57d0ad5e35da48f8b9934f42fd1bb73c"
  },
  "language_info": {
   "codemirror_mode": {
    "name": "ipython",
    "version": 3
   },
   "file_extension": ".py",
   "mimetype": "text/x-python",
   "name": "python",
   "nbconvert_exporter": "python",
   "pygments_lexer": "ipython3",
   "version": "3.6.10"
  }
 },
 "nbformat": 4,
 "nbformat_minor": 4
}
